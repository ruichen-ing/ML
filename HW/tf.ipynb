{
 "cells": [
  {
   "cell_type": "code",
   "execution_count": 1,
   "metadata": {},
   "outputs": [
    {
     "data": {
      "text/plain": [
       "'2.7.0'"
      ]
     },
     "execution_count": 1,
     "metadata": {},
     "output_type": "execute_result"
    }
   ],
   "source": [
    "import tensorflow as tf\n",
    "tf.__version__"
   ]
  },
  {
   "cell_type": "code",
   "execution_count": 2,
   "metadata": {},
   "outputs": [
    {
     "data": {
      "text/plain": [
       "[PhysicalDevice(name='/physical_device:CPU:0', device_type='CPU'),\n",
       " PhysicalDevice(name='/physical_device:GPU:0', device_type='GPU')]"
      ]
     },
     "execution_count": 2,
     "metadata": {},
     "output_type": "execute_result"
    }
   ],
   "source": [
    "tf.config.list_physical_devices()"
   ]
  },
  {
   "cell_type": "code",
   "execution_count": 3,
   "metadata": {},
   "outputs": [
    {
     "name": "stdout",
     "output_type": "stream",
     "text": [
      "Metal device set to: Apple M1\n",
      "\n",
      "systemMemory: 16.00 GB\n",
      "maxCacheSize: 5.33 GB\n",
      "\n"
     ]
    },
    {
     "name": "stderr",
     "output_type": "stream",
     "text": [
      "2022-02-07 22:06:15.879977: I tensorflow/core/common_runtime/pluggable_device/pluggable_device_factory.cc:305] Could not identify NUMA node of platform GPU ID 0, defaulting to 0. Your kernel may not have been built with NUMA support.\n",
      "2022-02-07 22:06:15.880236: I tensorflow/core/common_runtime/pluggable_device/pluggable_device_factory.cc:271] Created TensorFlow device (/job:localhost/replica:0/task:0/device:GPU:0 with 0 MB memory) -> physical PluggableDevice (device: 0, name: METAL, pci bus id: <undefined>)\n"
     ]
    }
   ],
   "source": [
    "import numpy as np\n",
    "\n",
    "X = np.arange(1, 101, step=0.1)\n",
    "y = [x + 10 for x in X]\n",
    "\n",
    "X = tf.cast(tf.constant(X), dtype=tf.float32)\n",
    "y = tf.cast(tf.constant(y), dtype=tf.float32)"
   ]
  },
  {
   "cell_type": "code",
   "execution_count": 4,
   "metadata": {},
   "outputs": [
    {
     "name": "stderr",
     "output_type": "stream",
     "text": [
      "2022-02-07 22:06:43.191573: W tensorflow/core/platform/profile_utils/cpu_utils.cc:128] Failed to get CPU frequency: 0 Hz\n"
     ]
    },
    {
     "name": "stdout",
     "output_type": "stream",
     "text": [
      "Epoch 1/100\n"
     ]
    },
    {
     "name": "stderr",
     "output_type": "stream",
     "text": [
      "2022-02-07 22:06:43.439562: I tensorflow/core/grappler/optimizers/custom_graph_optimizer_registry.cc:112] Plugin optimizer for device_type GPU is enabled.\n"
     ]
    },
    {
     "name": "stdout",
     "output_type": "stream",
     "text": [
      "32/32 [==============================] - 2s 15ms/step - loss: 19.9525 - mean_absolute_error: 19.9525\n",
      "Epoch 2/100\n",
      "32/32 [==============================] - 0s 5ms/step - loss: 10.6417 - mean_absolute_error: 10.6417\n",
      "Epoch 3/100\n",
      "32/32 [==============================] - 0s 5ms/step - loss: 6.1269 - mean_absolute_error: 6.1269\n",
      "Epoch 4/100\n",
      "32/32 [==============================] - 0s 5ms/step - loss: 5.8585 - mean_absolute_error: 5.8585\n",
      "Epoch 5/100\n",
      "32/32 [==============================] - 0s 5ms/step - loss: 11.0244 - mean_absolute_error: 11.0244\n",
      "Epoch 6/100\n",
      "32/32 [==============================] - 0s 5ms/step - loss: 6.0319 - mean_absolute_error: 6.0319\n",
      "Epoch 7/100\n",
      "32/32 [==============================] - 0s 4ms/step - loss: 5.5507 - mean_absolute_error: 5.5507\n",
      "Epoch 8/100\n",
      "32/32 [==============================] - 0s 5ms/step - loss: 6.0971 - mean_absolute_error: 6.0971\n",
      "Epoch 9/100\n",
      "32/32 [==============================] - 0s 5ms/step - loss: 3.9051 - mean_absolute_error: 3.9051\n",
      "Epoch 10/100\n",
      "32/32 [==============================] - 0s 5ms/step - loss: 5.0984 - mean_absolute_error: 5.0984\n",
      "Epoch 11/100\n",
      "32/32 [==============================] - 0s 5ms/step - loss: 6.8188 - mean_absolute_error: 6.8188\n",
      "Epoch 12/100\n",
      "32/32 [==============================] - 0s 5ms/step - loss: 7.2283 - mean_absolute_error: 7.2283\n",
      "Epoch 13/100\n",
      "32/32 [==============================] - 0s 5ms/step - loss: 6.2718 - mean_absolute_error: 6.2718\n",
      "Epoch 14/100\n",
      "32/32 [==============================] - 0s 5ms/step - loss: 6.1899 - mean_absolute_error: 6.1899\n",
      "Epoch 15/100\n",
      "32/32 [==============================] - 0s 5ms/step - loss: 5.5298 - mean_absolute_error: 5.5298\n",
      "Epoch 16/100\n",
      "32/32 [==============================] - 0s 6ms/step - loss: 3.7380 - mean_absolute_error: 3.7380\n",
      "Epoch 17/100\n",
      "32/32 [==============================] - 0s 5ms/step - loss: 2.6758 - mean_absolute_error: 2.6758\n",
      "Epoch 18/100\n",
      "32/32 [==============================] - 0s 5ms/step - loss: 5.6993 - mean_absolute_error: 5.6993\n",
      "Epoch 19/100\n",
      "32/32 [==============================] - 0s 5ms/step - loss: 3.8997 - mean_absolute_error: 3.8997\n",
      "Epoch 20/100\n",
      "32/32 [==============================] - 0s 4ms/step - loss: 2.9515 - mean_absolute_error: 2.9515\n",
      "Epoch 21/100\n",
      "32/32 [==============================] - 0s 5ms/step - loss: 4.7280 - mean_absolute_error: 4.7280\n",
      "Epoch 22/100\n",
      "32/32 [==============================] - 0s 5ms/step - loss: 2.1828 - mean_absolute_error: 2.1828\n",
      "Epoch 23/100\n",
      "32/32 [==============================] - 0s 5ms/step - loss: 4.3603 - mean_absolute_error: 4.3603\n",
      "Epoch 24/100\n",
      "32/32 [==============================] - 0s 5ms/step - loss: 8.2585 - mean_absolute_error: 8.2585\n",
      "Epoch 25/100\n",
      "32/32 [==============================] - 0s 5ms/step - loss: 4.2634 - mean_absolute_error: 4.2634\n",
      "Epoch 26/100\n",
      "32/32 [==============================] - 0s 5ms/step - loss: 3.0755 - mean_absolute_error: 3.0755\n",
      "Epoch 27/100\n",
      "32/32 [==============================] - 0s 5ms/step - loss: 3.3922 - mean_absolute_error: 3.3922\n",
      "Epoch 28/100\n",
      "32/32 [==============================] - 0s 5ms/step - loss: 3.6306 - mean_absolute_error: 3.6306\n",
      "Epoch 29/100\n",
      "32/32 [==============================] - 0s 5ms/step - loss: 3.8553 - mean_absolute_error: 3.8553\n",
      "Epoch 30/100\n",
      "32/32 [==============================] - 0s 5ms/step - loss: 5.4706 - mean_absolute_error: 5.4706\n",
      "Epoch 31/100\n",
      "32/32 [==============================] - 0s 5ms/step - loss: 6.2437 - mean_absolute_error: 6.2437\n",
      "Epoch 32/100\n",
      "32/32 [==============================] - 0s 5ms/step - loss: 2.5481 - mean_absolute_error: 2.5481\n",
      "Epoch 33/100\n",
      "32/32 [==============================] - 0s 5ms/step - loss: 2.2321 - mean_absolute_error: 2.2321\n",
      "Epoch 34/100\n",
      "32/32 [==============================] - 0s 4ms/step - loss: 2.1556 - mean_absolute_error: 2.1556\n",
      "Epoch 35/100\n",
      "32/32 [==============================] - 0s 5ms/step - loss: 3.3989 - mean_absolute_error: 3.3989\n",
      "Epoch 36/100\n",
      "32/32 [==============================] - 0s 5ms/step - loss: 1.8687 - mean_absolute_error: 1.8687\n",
      "Epoch 37/100\n",
      "32/32 [==============================] - 0s 4ms/step - loss: 2.8590 - mean_absolute_error: 2.8590\n",
      "Epoch 38/100\n",
      "32/32 [==============================] - 0s 4ms/step - loss: 2.2792 - mean_absolute_error: 2.2792\n",
      "Epoch 39/100\n",
      "32/32 [==============================] - 0s 4ms/step - loss: 2.3529 - mean_absolute_error: 2.3529\n",
      "Epoch 40/100\n",
      "32/32 [==============================] - 0s 5ms/step - loss: 3.4486 - mean_absolute_error: 3.4486\n",
      "Epoch 41/100\n",
      "32/32 [==============================] - 0s 5ms/step - loss: 1.8966 - mean_absolute_error: 1.8966\n",
      "Epoch 42/100\n",
      "32/32 [==============================] - 0s 5ms/step - loss: 3.9926 - mean_absolute_error: 3.9926\n",
      "Epoch 43/100\n",
      "32/32 [==============================] - 0s 4ms/step - loss: 2.8794 - mean_absolute_error: 2.8794\n",
      "Epoch 44/100\n",
      "32/32 [==============================] - 0s 5ms/step - loss: 2.1464 - mean_absolute_error: 2.1464\n",
      "Epoch 45/100\n",
      "32/32 [==============================] - 0s 4ms/step - loss: 2.4780 - mean_absolute_error: 2.4780\n",
      "Epoch 46/100\n",
      "32/32 [==============================] - 0s 5ms/step - loss: 1.9523 - mean_absolute_error: 1.9523\n",
      "Epoch 47/100\n",
      "32/32 [==============================] - 0s 6ms/step - loss: 1.5883 - mean_absolute_error: 1.5883\n",
      "Epoch 48/100\n",
      "32/32 [==============================] - 0s 5ms/step - loss: 1.3673 - mean_absolute_error: 1.3673\n",
      "Epoch 49/100\n",
      "32/32 [==============================] - 0s 5ms/step - loss: 4.1808 - mean_absolute_error: 4.1808\n",
      "Epoch 50/100\n",
      "32/32 [==============================] - 0s 4ms/step - loss: 5.4123 - mean_absolute_error: 5.4123\n",
      "Epoch 51/100\n",
      "32/32 [==============================] - 0s 5ms/step - loss: 3.3323 - mean_absolute_error: 3.3323\n",
      "Epoch 52/100\n",
      "32/32 [==============================] - 0s 5ms/step - loss: 2.3238 - mean_absolute_error: 2.3238\n",
      "Epoch 53/100\n",
      "32/32 [==============================] - 0s 5ms/step - loss: 2.5400 - mean_absolute_error: 2.5400\n",
      "Epoch 54/100\n",
      "32/32 [==============================] - 0s 4ms/step - loss: 4.1508 - mean_absolute_error: 4.1508\n",
      "Epoch 55/100\n",
      "32/32 [==============================] - 0s 4ms/step - loss: 1.8592 - mean_absolute_error: 1.8592\n",
      "Epoch 56/100\n",
      "32/32 [==============================] - 0s 4ms/step - loss: 2.6829 - mean_absolute_error: 2.6829\n",
      "Epoch 57/100\n",
      "32/32 [==============================] - 0s 4ms/step - loss: 4.8916 - mean_absolute_error: 4.8916\n",
      "Epoch 58/100\n",
      "32/32 [==============================] - 0s 4ms/step - loss: 1.3641 - mean_absolute_error: 1.3641\n",
      "Epoch 59/100\n",
      "32/32 [==============================] - 0s 4ms/step - loss: 1.2777 - mean_absolute_error: 1.2777\n",
      "Epoch 60/100\n",
      "32/32 [==============================] - 0s 4ms/step - loss: 1.4712 - mean_absolute_error: 1.4712\n",
      "Epoch 61/100\n",
      "32/32 [==============================] - 0s 4ms/step - loss: 1.2881 - mean_absolute_error: 1.2881\n",
      "Epoch 62/100\n",
      "32/32 [==============================] - 0s 4ms/step - loss: 3.3892 - mean_absolute_error: 3.3892\n",
      "Epoch 63/100\n",
      "32/32 [==============================] - 0s 5ms/step - loss: 2.2114 - mean_absolute_error: 2.2114\n",
      "Epoch 64/100\n",
      "32/32 [==============================] - 0s 5ms/step - loss: 2.6095 - mean_absolute_error: 2.6095\n",
      "Epoch 65/100\n",
      "32/32 [==============================] - 0s 4ms/step - loss: 4.4258 - mean_absolute_error: 4.4258\n",
      "Epoch 66/100\n",
      "32/32 [==============================] - 0s 5ms/step - loss: 3.3352 - mean_absolute_error: 3.3352A: 0s - loss: 3.1380 - mean_absolute_error: 3.13\n",
      "Epoch 67/100\n",
      "32/32 [==============================] - 0s 5ms/step - loss: 3.2600 - mean_absolute_error: 3.2600\n",
      "Epoch 68/100\n",
      "32/32 [==============================] - 0s 5ms/step - loss: 3.0927 - mean_absolute_error: 3.0927\n",
      "Epoch 69/100\n",
      "32/32 [==============================] - 0s 5ms/step - loss: 1.9829 - mean_absolute_error: 1.9829\n",
      "Epoch 70/100\n",
      "32/32 [==============================] - 0s 4ms/step - loss: 2.4543 - mean_absolute_error: 2.4543\n",
      "Epoch 71/100\n",
      "32/32 [==============================] - 0s 5ms/step - loss: 3.6706 - mean_absolute_error: 3.6706\n",
      "Epoch 72/100\n",
      "32/32 [==============================] - 0s 5ms/step - loss: 2.4221 - mean_absolute_error: 2.4221\n",
      "Epoch 73/100\n",
      "32/32 [==============================] - 0s 4ms/step - loss: 2.0913 - mean_absolute_error: 2.0913\n",
      "Epoch 74/100\n",
      "32/32 [==============================] - 0s 4ms/step - loss: 3.2672 - mean_absolute_error: 3.2672\n",
      "Epoch 75/100\n",
      "32/32 [==============================] - 0s 4ms/step - loss: 3.5160 - mean_absolute_error: 3.5160\n",
      "Epoch 76/100\n",
      "32/32 [==============================] - 0s 5ms/step - loss: 2.9893 - mean_absolute_error: 2.9893\n",
      "Epoch 77/100\n",
      "32/32 [==============================] - 0s 5ms/step - loss: 4.7645 - mean_absolute_error: 4.7645\n",
      "Epoch 78/100\n",
      "32/32 [==============================] - 0s 5ms/step - loss: 1.3696 - mean_absolute_error: 1.3696\n",
      "Epoch 79/100\n",
      "32/32 [==============================] - 0s 5ms/step - loss: 1.6457 - mean_absolute_error: 1.6457\n",
      "Epoch 80/100\n",
      "32/32 [==============================] - 0s 5ms/step - loss: 1.2070 - mean_absolute_error: 1.2070\n",
      "Epoch 81/100\n",
      "32/32 [==============================] - 0s 4ms/step - loss: 2.1911 - mean_absolute_error: 2.1911\n",
      "Epoch 82/100\n",
      "32/32 [==============================] - 0s 4ms/step - loss: 1.4318 - mean_absolute_error: 1.4318\n",
      "Epoch 83/100\n",
      "32/32 [==============================] - 0s 5ms/step - loss: 1.5935 - mean_absolute_error: 1.5935\n",
      "Epoch 84/100\n",
      "32/32 [==============================] - 0s 5ms/step - loss: 1.2448 - mean_absolute_error: 1.2448\n",
      "Epoch 85/100\n",
      "32/32 [==============================] - 0s 5ms/step - loss: 1.3692 - mean_absolute_error: 1.3692\n",
      "Epoch 86/100\n",
      "32/32 [==============================] - 0s 4ms/step - loss: 2.1969 - mean_absolute_error: 2.1969\n",
      "Epoch 87/100\n",
      "32/32 [==============================] - 0s 5ms/step - loss: 1.0998 - mean_absolute_error: 1.0998\n",
      "Epoch 88/100\n",
      "32/32 [==============================] - 0s 5ms/step - loss: 3.3711 - mean_absolute_error: 3.3711\n",
      "Epoch 89/100\n",
      "32/32 [==============================] - 0s 5ms/step - loss: 1.9618 - mean_absolute_error: 1.9618\n",
      "Epoch 90/100\n",
      "32/32 [==============================] - 0s 5ms/step - loss: 1.8471 - mean_absolute_error: 1.8471\n",
      "Epoch 91/100\n",
      "32/32 [==============================] - 0s 5ms/step - loss: 2.4480 - mean_absolute_error: 2.4480\n",
      "Epoch 92/100\n",
      "32/32 [==============================] - 0s 5ms/step - loss: 2.0410 - mean_absolute_error: 2.0410\n",
      "Epoch 93/100\n",
      "32/32 [==============================] - 0s 4ms/step - loss: 1.3435 - mean_absolute_error: 1.3435\n",
      "Epoch 94/100\n",
      "32/32 [==============================] - 0s 4ms/step - loss: 1.4720 - mean_absolute_error: 1.4720\n",
      "Epoch 95/100\n",
      "32/32 [==============================] - 0s 5ms/step - loss: 1.7512 - mean_absolute_error: 1.7512\n",
      "Epoch 96/100\n",
      "32/32 [==============================] - 0s 5ms/step - loss: 1.6738 - mean_absolute_error: 1.6738\n",
      "Epoch 97/100\n",
      "32/32 [==============================] - 0s 5ms/step - loss: 2.8268 - mean_absolute_error: 2.8268\n",
      "Epoch 98/100\n",
      "32/32 [==============================] - 0s 5ms/step - loss: 2.2683 - mean_absolute_error: 2.2683\n",
      "Epoch 99/100\n",
      "32/32 [==============================] - 0s 5ms/step - loss: 1.5036 - mean_absolute_error: 1.5036\n",
      "Epoch 100/100\n",
      "32/32 [==============================] - 0s 5ms/step - loss: 2.0285 - mean_absolute_error: 2.0285\n"
     ]
    },
    {
     "data": {
      "text/plain": [
       "<keras.callbacks.History at 0x15518efd0>"
      ]
     },
     "execution_count": 4,
     "metadata": {},
     "output_type": "execute_result"
    }
   ],
   "source": [
    "model = tf.keras.Sequential([\n",
    "    tf.keras.layers.Dense(64, input_shape=(1,), activation='relu'),\n",
    "    tf.keras.layers.Dense(64, activation='relu'),\n",
    "    tf.keras.layers.Dense(1)\n",
    "])\n",
    "\n",
    "model.compile(\n",
    "    loss=tf.keras.losses.mean_absolute_error,\n",
    "    optimizer=tf.keras.optimizers.Adam(learning_rate=0.1),\n",
    "    metrics=['mean_absolute_error']\n",
    ")\n",
    "\n",
    "model.fit(X, y, epochs=100)"
   ]
  },
  {
   "cell_type": "code",
   "execution_count": 5,
   "metadata": {},
   "outputs": [
    {
     "name": "stderr",
     "output_type": "stream",
     "text": [
      "2022-02-07 22:07:34.692503: I tensorflow/core/grappler/optimizers/custom_graph_optimizer_registry.cc:112] Plugin optimizer for device_type GPU is enabled.\n"
     ]
    },
    {
     "data": {
      "text/plain": [
       "array([[20.53152 ],\n",
       "       [31.073574],\n",
       "       [41.589252]], dtype=float32)"
      ]
     },
     "execution_count": 5,
     "metadata": {},
     "output_type": "execute_result"
    }
   ],
   "source": [
    "model.predict([10, 20, 30])\n"
   ]
  },
  {
   "cell_type": "code",
   "execution_count": 11,
   "metadata": {},
   "outputs": [],
   "source": [
    "import numpy\n",
    "import scipy\n",
    "import pandas\n",
    "import category_encoders\n",
    "import GPy\n",
    "import imblearn\n",
    "import ipywidgets\n",
    "import jupyterlab\n",
    "import fancyimpute\n",
    "import matplotlib\n",
    "import mlxtend\n",
    "import openml\n",
    "import pods\n",
    "import sklearn\n",
    "import seaborn"
   ]
  },
  {
   "cell_type": "code",
   "execution_count": 13,
   "metadata": {},
   "outputs": [
    {
     "name": "stdout",
     "output_type": "stream",
     "text": [
      "1.21.5\n",
      "1.8.0\n",
      "1.4.0\n",
      "2.3.0\n",
      "1.10.0\n",
      "0.9.0\n",
      "7.6.5\n",
      "3.2.9\n",
      "0.7.0\n",
      "3.5.1\n",
      "0.19.0\n",
      "0.12.2\n",
      "1.0.2\n",
      "0.11.2\n"
     ]
    }
   ],
   "source": [
    "print(numpy.__version__)\n",
    "print(scipy.__version__)\n",
    "print(pandas.__version__)\n",
    "print(category_encoders.__version__)\n",
    "print(GPy.__version__)\n",
    "print(imblearn.__version__)\n",
    "print(ipywidgets.__version__)\n",
    "print(jupyterlab.__version__)\n",
    "print(fancyimpute.__version__)\n",
    "print(matplotlib.__version__)\n",
    "print(mlxtend.__version__)\n",
    "print(openml.__version__)\n",
    "# print(pods.__version__)\n",
    "print(sklearn.__version__)\n",
    "print(seaborn.__version__)\n"
   ]
  },
  {
   "cell_type": "code",
   "execution_count": 97,
   "metadata": {},
   "outputs": [
    {
     "name": "stdout",
     "output_type": "stream",
     "text": [
      "[ 0  1  4  9 16 25 36 49 64 81]\n"
     ]
    },
    {
     "data": {
      "text/plain": [
       "array([81, 64, 49, 36, 25, 16,  9,  4,  1,  0])"
      ]
     },
     "execution_count": 97,
     "metadata": {},
     "output_type": "execute_result"
    }
   ],
   "source": [
    "a = np.arange(10)**2\n",
    "print(a)\n",
    "a[::-1]"
   ]
  },
  {
   "cell_type": "code",
   "execution_count": 1,
   "metadata": {},
   "outputs": [
    {
     "name": "stdout",
     "output_type": "stream",
     "text": [
      "Looks good. You may continue :)\n"
     ]
    }
   ],
   "source": [
    "%matplotlib inline \n",
    "import openml as oml \n",
    "import numpy as np \n",
    "import matplotlib.pyplot as plt \n",
    "import sklearn\n",
    "\n",
    "from packaging import version \n",
    "import sklearn \n",
    "import tensorflow\n",
    "\n",
    "sklearn_version = sklearn.__version__\n",
    "tensorflow_version = tensorflow.__version__\n",
    "\n",
    "if version.parse(tensorflow_version) < version.parse(\"2.2.0\"):\n",
    "    print(\"Tensorflow is outdated. This is version {}. Please update to 2.2 or later (e.g. 2.4)\".format(tensorflow_version))\n",
    "elif version.parse(tensorflow_version) < version.parse(\"2.4.0\"):\n",
    "    print(\"Tensorflow version is <2.4. This will likely work but we recommend updating to 2.4\".format(tensorflow_version))\n",
    "else:\n",
    "    print(\"Looks good. You may continue :)\")\n"
   ]
  }
 ],
 "metadata": {
  "interpreter": {
   "hash": "21a8708eaec2045ccecdfe47a8b88c916ffc7b8fb23e10c7ad9f476a88bd9e39"
  },
  "kernelspec": {
   "display_name": "Python 3.9.10 64-bit ('env_tf': conda)",
   "language": "python",
   "name": "python3"
  },
  "language_info": {
   "codemirror_mode": {
    "name": "ipython",
    "version": 3
   },
   "file_extension": ".py",
   "mimetype": "text/x-python",
   "name": "python",
   "nbconvert_exporter": "python",
   "pygments_lexer": "ipython3",
   "version": "3.9.10"
  },
  "orig_nbformat": 4
 },
 "nbformat": 4,
 "nbformat_minor": 2
}
